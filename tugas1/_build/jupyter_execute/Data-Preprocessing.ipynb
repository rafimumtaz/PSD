{
 "cells": [
  {
   "cell_type": "markdown",
   "id": "83c27023",
   "metadata": {},
   "source": [
    "# Data Preprocessing"
   ]
  },
  {
   "cell_type": "code",
   "execution_count": 1,
   "id": "8954837c",
   "metadata": {},
   "outputs": [
    {
     "name": "stdout",
     "output_type": "stream",
     "text": [
      "DATA PREPROCESSING NOTEBOOK\n",
      "==================================================\n",
      "Tahap preprocessing data untuk dataset Iris\n",
      "Berdasarkan hasil analisis dari DataUnderstanding notebook\n",
      "Penanganan outliers dari multi-model PyCaret (ABOD, KNN, COF)\n"
     ]
    }
   ],
   "source": [
    "# Data Preprocessing\n",
    "# penanganan outliers yang terdeteksi oleh multi-model PyCaret (ABOD, KNN, COF).\n",
    "\n",
    "print(\"DATA PREPROCESSING NOTEBOOK\")\n",
    "print(\"=\" * 50)\n",
    "print(\"Tahap preprocessing data untuk dataset Iris\")\n",
    "print(\"Berdasarkan hasil analisis dari DataUnderstanding notebook\")\n",
    "print(\"Penanganan outliers dari multi-model PyCaret (ABOD, KNN, COF)\")"
   ]
  },
  {
   "cell_type": "markdown",
   "id": "7a536075",
   "metadata": {},
   "source": [
    "## Import Libraries dan Setup Environment"
   ]
  },
  {
   "cell_type": "code",
   "execution_count": 2,
   "id": "4b7f4fc3",
   "metadata": {},
   "outputs": [
    {
     "ename": "KeyboardInterrupt",
     "evalue": "",
     "output_type": "error",
     "traceback": [
      "\u001b[31m---------------------------------------------------------------------------\u001b[39m",
      "\u001b[31mKeyboardInterrupt\u001b[39m                         Traceback (most recent call last)",
      "\u001b[36mCell\u001b[39m\u001b[36m \u001b[39m\u001b[32mIn[2]\u001b[39m\u001b[32m, line 13\u001b[39m\n\u001b[32m     11\u001b[39m \u001b[38;5;28;01mtry\u001b[39;00m:\n\u001b[32m     12\u001b[39m     \u001b[38;5;28;01mfrom\u001b[39;00m\u001b[38;5;250m \u001b[39m\u001b[34;01mpycaret\u001b[39;00m\u001b[34;01m.\u001b[39;00m\u001b[34;01mdatasets\u001b[39;00m\u001b[38;5;250m \u001b[39m\u001b[38;5;28;01mimport\u001b[39;00m get_data\n\u001b[32m---> \u001b[39m\u001b[32m13\u001b[39m     \u001b[38;5;28;01mfrom\u001b[39;00m\u001b[38;5;250m \u001b[39m\u001b[34;01mpycaret\u001b[39;00m\u001b[34;01m.\u001b[39;00m\u001b[34;01mclassification\u001b[39;00m\u001b[38;5;250m \u001b[39m\u001b[38;5;28;01mimport\u001b[39;00m *\n\u001b[32m     14\u001b[39m     \u001b[38;5;28;01mfrom\u001b[39;00m\u001b[38;5;250m \u001b[39m\u001b[34;01mpycaret\u001b[39;00m\u001b[34;01m.\u001b[39;00m\u001b[34;01manomaly\u001b[39;00m\u001b[38;5;250m \u001b[39m\u001b[38;5;28;01mimport\u001b[39;00m *\n\u001b[32m     15\u001b[39m     \u001b[38;5;28mprint\u001b[39m(\u001b[33m\"\u001b[39m\u001b[33mPyCaret berhasil diimport\u001b[39m\u001b[33m\"\u001b[39m)\n",
      "\u001b[36mFile \u001b[39m\u001b[32mC:\\xampp\\htdocs\\PSDs\\.venv\\Lib\\site-packages\\pycaret\\classification\\__init__.py:1\u001b[39m\n\u001b[32m----> \u001b[39m\u001b[32m1\u001b[39m \u001b[38;5;28;01mfrom\u001b[39;00m\u001b[38;5;250m \u001b[39m\u001b[34;01mpycaret\u001b[39;00m\u001b[34;01m.\u001b[39;00m\u001b[34;01mclassification\u001b[39;00m\u001b[34;01m.\u001b[39;00m\u001b[34;01mfunctional\u001b[39;00m\u001b[38;5;250m \u001b[39m\u001b[38;5;28;01mimport\u001b[39;00m (\n\u001b[32m      2\u001b[39m     add_metric,\n\u001b[32m      3\u001b[39m     automl,\n\u001b[32m      4\u001b[39m     blend_models,\n\u001b[32m      5\u001b[39m     calibrate_model,\n\u001b[32m      6\u001b[39m     check_drift,\n\u001b[32m      7\u001b[39m     check_fairness,\n\u001b[32m      8\u001b[39m     compare_models,\n\u001b[32m      9\u001b[39m     convert_model,\n\u001b[32m     10\u001b[39m     create_api,\n\u001b[32m     11\u001b[39m     create_app,\n\u001b[32m     12\u001b[39m     create_docker,\n\u001b[32m     13\u001b[39m     create_model,\n\u001b[32m     14\u001b[39m     dashboard,\n\u001b[32m     15\u001b[39m     deploy_model,\n\u001b[32m     16\u001b[39m     ensemble_model,\n\u001b[32m     17\u001b[39m     evaluate_model,\n\u001b[32m     18\u001b[39m     finalize_model,\n\u001b[32m     19\u001b[39m     get_allowed_engines,\n\u001b[32m     20\u001b[39m     get_config,\n\u001b[32m     21\u001b[39m     get_current_experiment,\n\u001b[32m     22\u001b[39m     get_engine,\n\u001b[32m     23\u001b[39m     get_leaderboard,\n\u001b[32m     24\u001b[39m     get_logs,\n\u001b[32m     25\u001b[39m     get_metrics,\n\u001b[32m     26\u001b[39m     interpret_model,\n\u001b[32m     27\u001b[39m     load_experiment,\n\u001b[32m     28\u001b[39m     load_model,\n\u001b[32m     29\u001b[39m     models,\n\u001b[32m     30\u001b[39m     optimize_threshold,\n\u001b[32m     31\u001b[39m     plot_model,\n\u001b[32m     32\u001b[39m     predict_model,\n\u001b[32m     33\u001b[39m     pull,\n\u001b[32m     34\u001b[39m     remove_metric,\n\u001b[32m     35\u001b[39m     save_experiment,\n\u001b[32m     36\u001b[39m     save_model,\n\u001b[32m     37\u001b[39m     set_config,\n\u001b[32m     38\u001b[39m     set_current_experiment,\n\u001b[32m     39\u001b[39m     setup,\n\u001b[32m     40\u001b[39m     stack_models,\n\u001b[32m     41\u001b[39m     tune_model,\n\u001b[32m     42\u001b[39m )\n\u001b[32m     43\u001b[39m \u001b[38;5;28;01mfrom\u001b[39;00m\u001b[38;5;250m \u001b[39m\u001b[34;01mpycaret\u001b[39;00m\u001b[34;01m.\u001b[39;00m\u001b[34;01mclassification\u001b[39;00m\u001b[34;01m.\u001b[39;00m\u001b[34;01moop\u001b[39;00m\u001b[38;5;250m \u001b[39m\u001b[38;5;28;01mimport\u001b[39;00m ClassificationExperiment\n\u001b[32m     45\u001b[39m __all__ = [\n\u001b[32m     46\u001b[39m     \u001b[33m\"\u001b[39m\u001b[33mClassificationExperiment\u001b[39m\u001b[33m\"\u001b[39m,\n\u001b[32m     47\u001b[39m     \u001b[33m\"\u001b[39m\u001b[33msetup\u001b[39m\u001b[33m\"\u001b[39m,\n\u001b[32m   (...)\u001b[39m\u001b[32m     86\u001b[39m     \u001b[33m\"\u001b[39m\u001b[33mcheck_drift\u001b[39m\u001b[33m\"\u001b[39m,\n\u001b[32m     87\u001b[39m ]\n",
      "\u001b[36mFile \u001b[39m\u001b[32mC:\\xampp\\htdocs\\PSDs\\.venv\\Lib\\site-packages\\pycaret\\classification\\functional.py:8\u001b[39m\n\u001b[32m      5\u001b[39m \u001b[38;5;28;01mimport\u001b[39;00m\u001b[38;5;250m \u001b[39m\u001b[34;01mpandas\u001b[39;00m\u001b[38;5;250m \u001b[39m\u001b[38;5;28;01mas\u001b[39;00m\u001b[38;5;250m \u001b[39m\u001b[34;01mpd\u001b[39;00m\n\u001b[32m      6\u001b[39m \u001b[38;5;28;01mfrom\u001b[39;00m\u001b[38;5;250m \u001b[39m\u001b[34;01mjoblib\u001b[39;00m\u001b[34;01m.\u001b[39;00m\u001b[34;01mmemory\u001b[39;00m\u001b[38;5;250m \u001b[39m\u001b[38;5;28;01mimport\u001b[39;00m Memory\n\u001b[32m----> \u001b[39m\u001b[32m8\u001b[39m \u001b[38;5;28;01mfrom\u001b[39;00m\u001b[38;5;250m \u001b[39m\u001b[34;01mpycaret\u001b[39;00m\u001b[34;01m.\u001b[39;00m\u001b[34;01mclassification\u001b[39;00m\u001b[34;01m.\u001b[39;00m\u001b[34;01moop\u001b[39;00m\u001b[38;5;250m \u001b[39m\u001b[38;5;28;01mimport\u001b[39;00m ClassificationExperiment\n\u001b[32m      9\u001b[39m \u001b[38;5;28;01mfrom\u001b[39;00m\u001b[38;5;250m \u001b[39m\u001b[34;01mpycaret\u001b[39;00m\u001b[34;01m.\u001b[39;00m\u001b[34;01minternal\u001b[39;00m\u001b[34;01m.\u001b[39;00m\u001b[34;01mparallel\u001b[39;00m\u001b[34;01m.\u001b[39;00m\u001b[34;01mparallel_backend\u001b[39;00m\u001b[38;5;250m \u001b[39m\u001b[38;5;28;01mimport\u001b[39;00m ParallelBackend\n\u001b[32m     10\u001b[39m \u001b[38;5;28;01mfrom\u001b[39;00m\u001b[38;5;250m \u001b[39m\u001b[34;01mpycaret\u001b[39;00m\u001b[34;01m.\u001b[39;00m\u001b[34;01mloggers\u001b[39;00m\u001b[34;01m.\u001b[39;00m\u001b[34;01mbase_logger\u001b[39;00m\u001b[38;5;250m \u001b[39m\u001b[38;5;28;01mimport\u001b[39;00m BaseLogger\n",
      "\u001b[36mFile \u001b[39m\u001b[32mC:\\xampp\\htdocs\\PSDs\\.venv\\Lib\\site-packages\\pycaret\\classification\\oop.py:22\u001b[39m\n\u001b[32m     16\u001b[39m \u001b[38;5;28;01mfrom\u001b[39;00m\u001b[38;5;250m \u001b[39m\u001b[34;01mpycaret\u001b[39;00m\u001b[34;01m.\u001b[39;00m\u001b[34;01mcontainers\u001b[39;00m\u001b[34;01m.\u001b[39;00m\u001b[34;01mmetrics\u001b[39;00m\u001b[34;01m.\u001b[39;00m\u001b[34;01mclassification\u001b[39;00m\u001b[38;5;250m \u001b[39m\u001b[38;5;28;01mimport\u001b[39;00m get_all_metric_containers\n\u001b[32m     17\u001b[39m \u001b[38;5;28;01mfrom\u001b[39;00m\u001b[38;5;250m \u001b[39m\u001b[34;01mpycaret\u001b[39;00m\u001b[34;01m.\u001b[39;00m\u001b[34;01mcontainers\u001b[39;00m\u001b[34;01m.\u001b[39;00m\u001b[34;01mmodels\u001b[39;00m\u001b[34;01m.\u001b[39;00m\u001b[34;01mclassification\u001b[39;00m\u001b[38;5;250m \u001b[39m\u001b[38;5;28;01mimport\u001b[39;00m (\n\u001b[32m     18\u001b[39m     ALL_ALLOWED_ENGINES,\n\u001b[32m     19\u001b[39m     get_all_model_containers,\n\u001b[32m     20\u001b[39m     get_container_default_engines,\n\u001b[32m     21\u001b[39m )\n\u001b[32m---> \u001b[39m\u001b[32m22\u001b[39m \u001b[38;5;28;01mfrom\u001b[39;00m\u001b[38;5;250m \u001b[39m\u001b[34;01mpycaret\u001b[39;00m\u001b[34;01m.\u001b[39;00m\u001b[34;01minternal\u001b[39;00m\u001b[34;01m.\u001b[39;00m\u001b[34;01mdisplay\u001b[39;00m\u001b[38;5;250m \u001b[39m\u001b[38;5;28;01mimport\u001b[39;00m CommonDisplay\n\u001b[32m     23\u001b[39m \u001b[38;5;28;01mfrom\u001b[39;00m\u001b[38;5;250m \u001b[39m\u001b[34;01mpycaret\u001b[39;00m\u001b[34;01m.\u001b[39;00m\u001b[34;01minternal\u001b[39;00m\u001b[34;01m.\u001b[39;00m\u001b[34;01mlogging\u001b[39;00m\u001b[38;5;250m \u001b[39m\u001b[38;5;28;01mimport\u001b[39;00m get_logger\n\u001b[32m     24\u001b[39m \u001b[38;5;28;01mfrom\u001b[39;00m\u001b[38;5;250m \u001b[39m\u001b[34;01mpycaret\u001b[39;00m\u001b[34;01m.\u001b[39;00m\u001b[34;01minternal\u001b[39;00m\u001b[34;01m.\u001b[39;00m\u001b[34;01mmeta_estimators\u001b[39;00m\u001b[38;5;250m \u001b[39m\u001b[38;5;28;01mimport\u001b[39;00m (\n\u001b[32m     25\u001b[39m     CustomProbabilityThresholdClassifier,\n\u001b[32m     26\u001b[39m     get_estimator_from_meta_estimator,\n\u001b[32m     27\u001b[39m )\n",
      "\u001b[36mFile \u001b[39m\u001b[32mC:\\xampp\\htdocs\\PSDs\\.venv\\Lib\\site-packages\\pycaret\\internal\\display\\__init__.py:1\u001b[39m\n\u001b[32m----> \u001b[39m\u001b[32m1\u001b[39m \u001b[38;5;28;01mfrom\u001b[39;00m\u001b[38;5;250m \u001b[39m\u001b[34;01mpycaret\u001b[39;00m\u001b[34;01m.\u001b[39;00m\u001b[34;01minternal\u001b[39;00m\u001b[34;01m.\u001b[39;00m\u001b[34;01mdisplay\u001b[39;00m\u001b[34;01m.\u001b[39;00m\u001b[34;01mdisplay\u001b[39;00m\u001b[38;5;250m \u001b[39m\u001b[38;5;28;01mimport\u001b[39;00m CommonDisplay, DummyDisplay\n\u001b[32m      2\u001b[39m \u001b[38;5;28;01mfrom\u001b[39;00m\u001b[38;5;250m \u001b[39m\u001b[34;01mpycaret\u001b[39;00m\u001b[34;01m.\u001b[39;00m\u001b[34;01mutils\u001b[39;00m\u001b[34;01m.\u001b[39;00m\u001b[34;01mgeneric\u001b[39;00m\u001b[38;5;250m \u001b[39m\u001b[38;5;28;01mimport\u001b[39;00m enable_colab\n\u001b[32m      4\u001b[39m __all__ = [\u001b[33m\"\u001b[39m\u001b[33mCommonDisplay\u001b[39m\u001b[33m\"\u001b[39m, \u001b[33m\"\u001b[39m\u001b[33mDummyDisplay\u001b[39m\u001b[33m\"\u001b[39m, \u001b[33m\"\u001b[39m\u001b[33menable_colab\u001b[39m\u001b[33m\"\u001b[39m]\n",
      "\u001b[36mFile \u001b[39m\u001b[32mC:\\xampp\\htdocs\\PSDs\\.venv\\Lib\\site-packages\\pycaret\\internal\\display\\display.py:9\u001b[39m\n\u001b[32m      7\u001b[39m \u001b[38;5;28;01mfrom\u001b[39;00m\u001b[38;5;250m \u001b[39m\u001b[34;01mpycaret\u001b[39;00m\u001b[34;01m.\u001b[39;00m\u001b[34;01minternal\u001b[39;00m\u001b[34;01m.\u001b[39;00m\u001b[34;01mdisplay\u001b[39;00m\u001b[34;01m.\u001b[39;00m\u001b[34;01mdisplay_backend\u001b[39;00m\u001b[38;5;250m \u001b[39m\u001b[38;5;28;01mimport\u001b[39;00m SilentBackend, detect_backend\n\u001b[32m      8\u001b[39m \u001b[38;5;28;01mfrom\u001b[39;00m\u001b[38;5;250m \u001b[39m\u001b[34;01mpycaret\u001b[39;00m\u001b[34;01m.\u001b[39;00m\u001b[34;01minternal\u001b[39;00m\u001b[34;01m.\u001b[39;00m\u001b[34;01mdisplay\u001b[39;00m\u001b[34;01m.\u001b[39;00m\u001b[34;01mdisplay_component\u001b[39;00m\u001b[38;5;250m \u001b[39m\u001b[38;5;28;01mimport\u001b[39;00m MonitorDisplay\n\u001b[32m----> \u001b[39m\u001b[32m9\u001b[39m \u001b[38;5;28;01mfrom\u001b[39;00m\u001b[38;5;250m \u001b[39m\u001b[34;01mpycaret\u001b[39;00m\u001b[34;01m.\u001b[39;00m\u001b[34;01minternal\u001b[39;00m\u001b[34;01m.\u001b[39;00m\u001b[34;01mdisplay\u001b[39;00m\u001b[34;01m.\u001b[39;00m\u001b[34;01mprogress_bar\u001b[39;00m\u001b[38;5;250m \u001b[39m\u001b[38;5;28;01mimport\u001b[39;00m ProgressBarDisplay\n\u001b[32m     10\u001b[39m \u001b[38;5;28;01mfrom\u001b[39;00m\u001b[38;5;250m \u001b[39m\u001b[34;01mpycaret\u001b[39;00m\u001b[34;01m.\u001b[39;00m\u001b[34;01minternal\u001b[39;00m\u001b[34;01m.\u001b[39;00m\u001b[34;01mlogging\u001b[39;00m\u001b[38;5;250m \u001b[39m\u001b[38;5;28;01mimport\u001b[39;00m get_logger\n\u001b[32m     13\u001b[39m \u001b[38;5;28;01mclass\u001b[39;00m\u001b[38;5;250m \u001b[39m\u001b[34;01mCommonDisplay\u001b[39;00m:\n",
      "\u001b[36mFile \u001b[39m\u001b[32mC:\\xampp\\htdocs\\PSDs\\.venv\\Lib\\site-packages\\pycaret\\internal\\display\\progress_bar.py:4\u001b[39m\n\u001b[32m      1\u001b[39m \u001b[38;5;28;01mfrom\u001b[39;00m\u001b[38;5;250m \u001b[39m\u001b[34;01mabc\u001b[39;00m\u001b[38;5;250m \u001b[39m\u001b[38;5;28;01mimport\u001b[39;00m ABC, abstractmethod\n\u001b[32m      2\u001b[39m \u001b[38;5;28;01mfrom\u001b[39;00m\u001b[38;5;250m \u001b[39m\u001b[34;01mtyping\u001b[39;00m\u001b[38;5;250m \u001b[39m\u001b[38;5;28;01mimport\u001b[39;00m Optional, Type, Union\n\u001b[32m----> \u001b[39m\u001b[32m4\u001b[39m \u001b[38;5;28;01mimport\u001b[39;00m\u001b[38;5;250m \u001b[39m\u001b[34;01mtqdm\u001b[39;00m\u001b[34;01m.\u001b[39;00m\u001b[34;01mnotebook\u001b[39;00m\n\u001b[32m      5\u001b[39m \u001b[38;5;28;01mimport\u001b[39;00m\u001b[38;5;250m \u001b[39m\u001b[34;01mtqdm\u001b[39;00m\u001b[34;01m.\u001b[39;00m\u001b[34;01mstd\u001b[39;00m\n\u001b[32m      7\u001b[39m \u001b[38;5;28;01mfrom\u001b[39;00m\u001b[38;5;250m \u001b[39m\u001b[34;01mpycaret\u001b[39;00m\u001b[34;01m.\u001b[39;00m\u001b[34;01minternal\u001b[39;00m\u001b[34;01m.\u001b[39;00m\u001b[34;01mdisplay\u001b[39;00m\u001b[34;01m.\u001b[39;00m\u001b[34;01mdisplay_backend\u001b[39;00m\u001b[38;5;250m \u001b[39m\u001b[38;5;28;01mimport\u001b[39;00m (\n\u001b[32m      8\u001b[39m     DatabricksBackend,\n\u001b[32m      9\u001b[39m     DisplayBackend,\n\u001b[32m     10\u001b[39m     JupyterBackend,\n\u001b[32m     11\u001b[39m )\n",
      "\u001b[36mFile \u001b[39m\u001b[32mC:\\xampp\\htdocs\\PSDs\\.venv\\Lib\\site-packages\\tqdm\\__init__.py:4\u001b[39m\n\u001b[32m      2\u001b[39m \u001b[38;5;28;01mfrom\u001b[39;00m\u001b[38;5;250m \u001b[39m\u001b[34;01m.\u001b[39;00m\u001b[34;01m_tqdm_pandas\u001b[39;00m\u001b[38;5;250m \u001b[39m\u001b[38;5;28;01mimport\u001b[39;00m tqdm_pandas\n\u001b[32m      3\u001b[39m \u001b[38;5;28;01mfrom\u001b[39;00m\u001b[38;5;250m \u001b[39m\u001b[34;01m.\u001b[39;00m\u001b[34;01mcli\u001b[39;00m\u001b[38;5;250m \u001b[39m\u001b[38;5;28;01mimport\u001b[39;00m main  \u001b[38;5;66;03m# TODO: remove in v5.0.0\u001b[39;00m\n\u001b[32m----> \u001b[39m\u001b[32m4\u001b[39m \u001b[38;5;28;01mfrom\u001b[39;00m\u001b[38;5;250m \u001b[39m\u001b[34;01m.\u001b[39;00m\u001b[34;01mgui\u001b[39;00m\u001b[38;5;250m \u001b[39m\u001b[38;5;28;01mimport\u001b[39;00m tqdm \u001b[38;5;28;01mas\u001b[39;00m tqdm_gui  \u001b[38;5;66;03m# TODO: remove in v5.0.0\u001b[39;00m\n\u001b[32m      5\u001b[39m \u001b[38;5;28;01mfrom\u001b[39;00m\u001b[38;5;250m \u001b[39m\u001b[34;01m.\u001b[39;00m\u001b[34;01mgui\u001b[39;00m\u001b[38;5;250m \u001b[39m\u001b[38;5;28;01mimport\u001b[39;00m trange \u001b[38;5;28;01mas\u001b[39;00m tgrange  \u001b[38;5;66;03m# TODO: remove in v5.0.0\u001b[39;00m\n\u001b[32m      6\u001b[39m \u001b[38;5;28;01mfrom\u001b[39;00m\u001b[38;5;250m \u001b[39m\u001b[34;01m.\u001b[39;00m\u001b[34;01mstd\u001b[39;00m\u001b[38;5;250m \u001b[39m\u001b[38;5;28;01mimport\u001b[39;00m (\n\u001b[32m      7\u001b[39m     TqdmDeprecationWarning, TqdmExperimentalWarning, TqdmKeyError, TqdmMonitorWarning,\n\u001b[32m      8\u001b[39m     TqdmTypeError, TqdmWarning, tqdm, trange)\n",
      "\u001b[36mFile \u001b[39m\u001b[32m<frozen importlib._bootstrap>:1176\u001b[39m, in \u001b[36m_find_and_load\u001b[39m\u001b[34m(name, import_)\u001b[39m\n",
      "\u001b[36mFile \u001b[39m\u001b[32m<frozen importlib._bootstrap>:1147\u001b[39m, in \u001b[36m_find_and_load_unlocked\u001b[39m\u001b[34m(name, import_)\u001b[39m\n",
      "\u001b[36mFile \u001b[39m\u001b[32m<frozen importlib._bootstrap>:690\u001b[39m, in \u001b[36m_load_unlocked\u001b[39m\u001b[34m(spec)\u001b[39m\n",
      "\u001b[36mFile \u001b[39m\u001b[32m<frozen importlib._bootstrap_external>:936\u001b[39m, in \u001b[36mexec_module\u001b[39m\u001b[34m(self, module)\u001b[39m\n",
      "\u001b[36mFile \u001b[39m\u001b[32m<frozen importlib._bootstrap_external>:1032\u001b[39m, in \u001b[36mget_code\u001b[39m\u001b[34m(self, fullname)\u001b[39m\n",
      "\u001b[36mFile \u001b[39m\u001b[32m<frozen importlib._bootstrap_external>:1131\u001b[39m, in \u001b[36mget_data\u001b[39m\u001b[34m(self, path)\u001b[39m\n",
      "\u001b[31mKeyboardInterrupt\u001b[39m: "
     ]
    }
   ],
   "source": [
    "import pandas as pd\n",
    "import numpy as np\n",
    "import matplotlib.pyplot as plt\n",
    "import seaborn as sns\n",
    "from sklearn.preprocessing import StandardScaler, MinMaxScaler, RobustScaler\n",
    "from sklearn.model_selection import train_test_split\n",
    "from sklearn.preprocessing import LabelEncoder\n",
    "import warnings\n",
    "warnings.filterwarnings('ignore')\n",
    "\n",
    "try:\n",
    "    from pycaret.datasets import get_data\n",
    "    from pycaret.classification import *\n",
    "    from pycaret.anomaly import *\n",
    "    print(\"PyCaret berhasil diimport\")\n",
    "except ImportError:\n",
    "    print(\"PyCaret tidak tersedia. Install dengan: pip install pycaret\")\n",
    "\n",
    "plt.style.use('default')\n",
    "sns.set_palette(\"husl\")\n",
    "\n",
    "print(\"Libraries berhasil diimport untuk preprocessing\")\n",
    "print(\"Libraries yang tersedia:\")\n",
    "print(\"   • Pandas & NumPy: Data manipulation\")\n",
    "print(\"   • Matplotlib & Seaborn: Visualisasi\")\n",
    "print(\"   • Scikit-learn: Preprocessing tools\")\n",
    "print(\"   • PyCaret: Advanced ML preprocessing\")"
   ]
  },
  {
   "cell_type": "markdown",
   "id": "fd65147c",
   "metadata": {},
   "source": [
    "## Load Data dan Hasil Outlier Detection\n"
   ]
  },
  {
   "cell_type": "code",
   "execution_count": 13,
   "id": "e2bc13ce",
   "metadata": {},
   "outputs": [
    {
     "name": "stdout",
     "output_type": "stream",
     "text": [
      "=== LOADING DATA DAN HASIL OUTLIER DETECTION ===\n",
      "Kolom 'Class' tidak ditemukan di data, lewati mapping species.\n",
      "Dataset Iris berhasil dimuat dari data_iris.csv\n",
      "\n",
      "Info Dataset:\n",
      "   • Ukuran: 150 baris, 1 kolom\n",
      "   • Features: ['sepal length (cm)', 'sepal width (cm)', 'petal length (cm)', 'petal width (cm)']\n",
      "   • Target: species (0=setosa, 1=versicolor, 2=virginica)\n",
      "\n",
      "Sample Data:\n",
      "  id,Class,sepal length,sepal width,petal length,petal width\n",
      "0                      1,Iris-setosa,5.1,3.5,1.4,0.2        \n",
      "1                        2,Iris-setosa,4.9,3,1.4,0.2        \n",
      "2                      3,Iris-setosa,4.7,3.2,1.3,0.2        \n",
      "3                      4,Iris-setosa,4.6,3.1,1.5,0.2        \n",
      "4                        5,Iris-setosa,5,3.6,1.4,0.2        \n"
     ]
    }
   ],
   "source": [
    "# Load dataset Iris dengan hasil outlier detection dari DataUnderstanding\n",
    "print(\"=== LOADING DATA DAN HASIL OUTLIER DETECTION ===\")\n",
    "\n",
    "try:\n",
    "    # Load data dari file CSV atau PyCaret\n",
    "    try:\n",
    "        # Coba load dari file lokal\n",
    "        df = pd.read_csv('data_iris.csv', delimiter=';')\n",
    "        \n",
    "        # Konversi kolom numerik yang menggunakan koma sebagai decimal separator\n",
    "        numeric_columns = ['sepal length', 'sepal width', 'petal length', 'petal width']\n",
    "        \n",
    "        for col in numeric_columns:\n",
    "            if col in df.columns:\n",
    "                df[col] = df[col].astype(str).str.replace(',', '.').astype(float)\n",
    "        \n",
    "        # Buat kolom species numerik dan species name jika 'Class' ada\n",
    "        if 'Class' in df.columns:\n",
    "            df['species'] = df['Class'].map({'Iris-setosa': 0, 'Iris-versicolor': 1, 'Iris-virginica': 2})\n",
    "            df['species_name'] = df['Class'].map({'Iris-setosa': 'setosa', 'Iris-versicolor': 'versicolor', 'Iris-virginica': 'virginica'})\n",
    "            df = df.drop('Class', axis=1)\n",
    "        else:\n",
    "            print(\"Kolom 'Class' tidak ditemukan di data, lewati mapping species.\")\n",
    "        \n",
    "        # Rename kolom untuk konsistensi dengan format sklearn\n",
    "        df = df.rename(columns={\n",
    "            'sepal length': 'sepal length (cm)',\n",
    "            'sepal width': 'sepal width (cm)', \n",
    "            'petal length': 'petal length (cm)',\n",
    "            'petal width': 'petal width (cm)'\n",
    "        })\n",
    "        \n",
    "        # Drop kolom yang tidak diperlukan\n",
    "        if 'id' in df.columns:\n",
    "            df = df.drop('id', axis=1)\n",
    "        \n",
    "        print(\"Dataset Iris berhasil dimuat dari data_iris.csv\")\n",
    "        \n",
    "    except FileNotFoundError:\n",
    "        print(\"File lokal tidak ditemukan. Menggunakan dataset Iris dari PyCaret...\")\n",
    "        try:\n",
    "            df = get_data('iris')\n",
    "            df['species'] = df['species'].map({'setosa': 0, 'versicolor': 1, 'virginica': 2})\n",
    "            df['species_name'] = df['species'].map({0: 'setosa', 1: 'versicolor', 2: 'virginica'})\n",
    "            print(\"Dataset Iris berhasil dimuat dari PyCaret\")\n",
    "        except:\n",
    "            print(\"Error: Tidak dapat memuat dataset dari PyCaret\")\n",
    "    \n",
    "    features = ['sepal length (cm)', 'sepal width (cm)', 'petal length (cm)', 'petal width (cm)']\n",
    "    \n",
    "    print(f\"\\nInfo Dataset:\")\n",
    "    print(f\"   • Ukuran: {df.shape[0]} baris, {df.shape[1]} kolom\")\n",
    "    print(f\"   • Features: {features}\")\n",
    "    print(f\"   • Target: species (0=setosa, 1=versicolor, 2=virginica)\")\n",
    "    \n",
    "    print(f\"\\nSample Data:\")\n",
    "    print(df.head())\n",
    "    \n",
    "except Exception as e:\n",
    "    print(f\"Error loading data: {e}\")\n",
    "    df = None\n"
   ]
  },
  {
   "cell_type": "code",
   "execution_count": 22,
   "id": "5513d489",
   "metadata": {},
   "outputs": [
    {
     "name": "stderr",
     "output_type": "stream",
     "text": [
      "\n",
      "[notice] A new release of pip is available: 23.2.1 -> 25.2\n",
      "[notice] To update, run: python.exe -m pip install --upgrade pip\n"
     ]
    },
    {
     "name": "stdout",
     "output_type": "stream",
     "text": [
      "Collecting openpyxl\n",
      "  Obtaining dependency information for openpyxl from https://files.pythonhosted.org/packages/c0/da/977ded879c29cbd04de313843e76868e6e13408a94ed6b987245dc7c8506/openpyxl-3.1.5-py2.py3-none-any.whl.metadata\n",
      "  Downloading openpyxl-3.1.5-py2.py3-none-any.whl.metadata (2.5 kB)\n",
      "Collecting et-xmlfile (from openpyxl)\n",
      "  Obtaining dependency information for et-xmlfile from https://files.pythonhosted.org/packages/c1/8b/5fe2cc11fee489817272089c4203e679c63b570a5aaeb18d852ae3cbba6a/et_xmlfile-2.0.0-py3-none-any.whl.metadata\n",
      "  Downloading et_xmlfile-2.0.0-py3-none-any.whl.metadata (2.7 kB)\n",
      "Downloading openpyxl-3.1.5-py2.py3-none-any.whl (250 kB)\n",
      "   ---------------------------------------- 0.0/250.9 kB ? eta -:--:--\n",
      "   ---------------------------------------- 0.0/250.9 kB ? eta -:--:--\n",
      "   ---------------------------------------- 0.0/250.9 kB ? eta -:--:--\n",
      "   - -------------------------------------- 10.2/250.9 kB ? eta -:--:--\n",
      "   ------ -------------------------------- 41.0/250.9 kB 279.3 kB/s eta 0:00:01\n",
      "   ----------- --------------------------- 71.7/250.9 kB 391.3 kB/s eta 0:00:01\n",
      "   ------------------------------- ------ 204.8/250.9 kB 953.7 kB/s eta 0:00:01\n",
      "   ---------------------------------------  245.8/250.9 kB 1.1 MB/s eta 0:00:01\n",
      "   -------------------------------------- 250.9/250.9 kB 904.8 kB/s eta 0:00:00\n",
      "Downloading et_xmlfile-2.0.0-py3-none-any.whl (18 kB)\n",
      "Installing collected packages: et-xmlfile, openpyxl\n",
      "Successfully installed et-xmlfile-2.0.0 openpyxl-3.1.5\n",
      "Note: you may need to restart the kernel to use updated packages.\n",
      "Fitur numerik: ['sepal length', 'sepal width', 'petal length', 'petal width']\n",
      "\n",
      "=== DETEKSI OUTLIER DENGAN METODE STATISTIK ===\n",
      "Jumlah outlier (statistik): 4\n",
      "\n",
      "=== DETEKSI OUTLIER DENGAN PYCARET ===\n"
     ]
    },
    {
     "data": {
      "text/html": [],
      "text/plain": [
       "<IPython.core.display.HTML object>"
      ]
     },
     "metadata": {},
     "output_type": "display_data"
    },
    {
     "data": {
      "text/html": [],
      "text/plain": [
       "<IPython.core.display.HTML object>"
      ]
     },
     "metadata": {},
     "output_type": "display_data"
    },
    {
     "data": {
      "text/html": [],
      "text/plain": [
       "<IPython.core.display.HTML object>"
      ]
     },
     "metadata": {},
     "output_type": "display_data"
    },
    {
     "name": "stdout",
     "output_type": "stream",
     "text": [
      "\n",
      "Model ABOD:\n",
      "Anomaly\n",
      "0    142\n",
      "1      8\n",
      "Name: count, dtype: int64\n"
     ]
    },
    {
     "data": {
      "text/html": [],
      "text/plain": [
       "<IPython.core.display.HTML object>"
      ]
     },
     "metadata": {},
     "output_type": "display_data"
    },
    {
     "data": {
      "text/html": [],
      "text/plain": [
       "<IPython.core.display.HTML object>"
      ]
     },
     "metadata": {},
     "output_type": "display_data"
    },
    {
     "data": {
      "text/html": [],
      "text/plain": [
       "<IPython.core.display.HTML object>"
      ]
     },
     "metadata": {},
     "output_type": "display_data"
    },
    {
     "name": "stdout",
     "output_type": "stream",
     "text": [
      "\n",
      "Model KNN:\n",
      "Anomaly\n",
      "0    142\n",
      "1      8\n",
      "Name: count, dtype: int64\n"
     ]
    },
    {
     "data": {
      "text/html": [],
      "text/plain": [
       "<IPython.core.display.HTML object>"
      ]
     },
     "metadata": {},
     "output_type": "display_data"
    },
    {
     "data": {
      "text/html": [],
      "text/plain": [
       "<IPython.core.display.HTML object>"
      ]
     },
     "metadata": {},
     "output_type": "display_data"
    },
    {
     "data": {
      "text/html": [],
      "text/plain": [
       "<IPython.core.display.HTML object>"
      ]
     },
     "metadata": {},
     "output_type": "display_data"
    },
    {
     "name": "stdout",
     "output_type": "stream",
     "text": [
      "\n",
      "Model COF:\n",
      "Anomaly\n",
      "0    142\n",
      "1      8\n",
      "Name: count, dtype: int64\n",
      "\n",
      "✓ Deteksi outlier selesai, hasil disimpan ke hasil_outlier.xlsx\n"
     ]
    }
   ],
   "source": [
    "# === IMPORT LIBRARY ===\n",
    "%pip install openpyxl\n",
    "import pandas as pd\n",
    "import numpy as np\n",
    "from scipy import stats\n",
    "\n",
    "# PyCaret Anomaly\n",
    "from pycaret.anomaly import setup, create_model, assign_model\n",
    "\n",
    "# === LOAD DATASET ===\n",
    "df = pd.read_csv(\"data_iris.csv\")\n",
    "\n",
    "# Pastikan hanya ambil fitur numerik, buang 'id' kalau tidak perlu\n",
    "numeric_features = [col for col in df.select_dtypes(include=['int64', 'float64']).columns if col != 'id']\n",
    "print(\"Fitur numerik:\", numeric_features)\n",
    "\n",
    "\n",
    "# === 1. DETEKSI OUTLIER MENGGUNAKAN METODE STATISTIK ===\n",
    "print(\"\\n=== DETEKSI OUTLIER DENGAN METODE STATISTIK ===\")\n",
    "\n",
    "# Metode Z-Score\n",
    "z_scores = np.abs(stats.zscore(df[numeric_features]))\n",
    "outliers_z = (z_scores > 3).any(axis=1)\n",
    "\n",
    "# Metode IQR\n",
    "Q1 = df[numeric_features].quantile(0.25)\n",
    "Q3 = df[numeric_features].quantile(0.75)\n",
    "IQR = Q3 - Q1\n",
    "outliers_iqr = ((df[numeric_features] < (Q1 - 1.5 * IQR)) | (df[numeric_features] > (Q3 + 1.5 * IQR))).any(axis=1)\n",
    "\n",
    "df['Outlier_Statistik'] = outliers_z | outliers_iqr\n",
    "print(\"Jumlah outlier (statistik):\", df['Outlier_Statistik'].sum())\n",
    "\n",
    "\n",
    "# === 2. DETEKSI OUTLIER MENGGUNAKAN PYCARET ===\n",
    "print(\"\\n=== DETEKSI OUTLIER DENGAN PYCARET ===\")\n",
    "\n",
    "try:\n",
    "    # Setup PyCaret versi baru (tanpa silent/train_size)\n",
    "    s = setup(data=df[numeric_features], session_id=123, verbose=False)\n",
    "\n",
    "    models = [\"abod\", \"knn\", \"cof\"]\n",
    "    for m in models:\n",
    "        model = create_model(m)\n",
    "        results = assign_model(model)\n",
    "        print(f\"\\nModel {m.upper()}:\")\n",
    "        print(results['Anomaly'].value_counts())\n",
    "\n",
    "        # Simpan hasil ke dataframe utama\n",
    "        df[f\"Outlier_{m.upper()}\"] = results['Anomaly']\n",
    "\n",
    "except Exception as e:\n",
    "    print(\"Error PyCaret:\", e)\n",
    "    print(\"Lanjut menggunakan metode statistik saja...\")\n",
    "\n",
    "\n",
    "# === SIMPAN HASIL KE FILE BARU ===\n",
    "df.to_excel(\"hasil_outlier.xlsx\", index=False)\n",
    "print(\"\\n✓ Deteksi outlier selesai, hasil disimpan ke hasil_outlier.xlsx\")\n"
   ]
  }
 ],
 "metadata": {
  "kernelspec": {
   "display_name": "Python 3",
   "language": "python",
   "name": "python3"
  },
  "language_info": {
   "codemirror_mode": {
    "name": "ipython",
    "version": 3
   },
   "file_extension": ".py",
   "mimetype": "text/x-python",
   "name": "python",
   "nbconvert_exporter": "python",
   "pygments_lexer": "ipython3",
   "version": "3.11.5"
  }
 },
 "nbformat": 4,
 "nbformat_minor": 5
}