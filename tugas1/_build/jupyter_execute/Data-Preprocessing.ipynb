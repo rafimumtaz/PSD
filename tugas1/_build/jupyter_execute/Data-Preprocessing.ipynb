{
 "cells": [
  {
   "cell_type": "markdown",
   "id": "83c27023",
   "metadata": {},
   "source": [
    "# Data Preprocessing"
   ]
  },
  {
   "cell_type": "code",
   "execution_count": 1,
   "id": "8954837c",
   "metadata": {},
   "outputs": [
    {
     "name": "stdout",
     "output_type": "stream",
     "text": [
      "DATA PREPROCESSING NOTEBOOK\n",
      "==================================================\n",
      "Tahap preprocessing data untuk dataset Iris\n",
      "Berdasarkan hasil analisis dari DataUnderstanding notebook\n",
      "Penanganan outliers dari multi-model PyCaret (ABOD, KNN, COF)\n"
     ]
    }
   ],
   "source": [
    "# Data Preprocessing\n",
    "# penanganan outliers yang terdeteksi oleh multi-model PyCaret (ABOD, KNN, COF).\n",
    "\n",
    "print(\"DATA PREPROCESSING NOTEBOOK\")\n",
    "print(\"=\" * 50)\n",
    "print(\"Tahap preprocessing data untuk dataset Iris\")\n",
    "print(\"Berdasarkan hasil analisis dari DataUnderstanding notebook\")\n",
    "print(\"Penanganan outliers dari multi-model PyCaret (ABOD, KNN, COF)\")"
   ]
  },
  {
   "cell_type": "markdown",
   "id": "7a536075",
   "metadata": {},
   "source": [
    "## Import Libraries dan Setup Environment"
   ]
  },
  {
   "cell_type": "code",
   "execution_count": 2,
   "id": "4b7f4fc3",
   "metadata": {},
   "outputs": [
    {
     "name": "stdout",
     "output_type": "stream",
     "text": [
      "PyCaret berhasil diimport\n",
      "Libraries berhasil diimport untuk preprocessing\n",
      "Libraries yang tersedia:\n",
      "   • Pandas & NumPy: Data manipulation\n",
      "   • Matplotlib & Seaborn: Visualisasi\n",
      "   • Scikit-learn: Preprocessing tools\n",
      "   • PyCaret: Advanced ML preprocessing\n"
     ]
    }
   ],
   "source": [
    "import pandas as pd\n",
    "import numpy as np\n",
    "import matplotlib.pyplot as plt\n",
    "import seaborn as sns\n",
    "from sklearn.preprocessing import StandardScaler, MinMaxScaler, RobustScaler\n",
    "from sklearn.model_selection import train_test_split\n",
    "from sklearn.preprocessing import LabelEncoder\n",
    "import warnings\n",
    "warnings.filterwarnings('ignore')\n",
    "\n",
    "try:\n",
    "    from pycaret.datasets import get_data\n",
    "    from pycaret.classification import *\n",
    "    from pycaret.anomaly import *\n",
    "    print(\"PyCaret berhasil diimport\")\n",
    "except ImportError:\n",
    "    print(\"PyCaret tidak tersedia. Install dengan: pip install pycaret\")\n",
    "\n",
    "plt.style.use('default')\n",
    "sns.set_palette(\"husl\")\n",
    "\n",
    "print(\"Libraries berhasil diimport untuk preprocessing\")\n",
    "print(\"Libraries yang tersedia:\")\n",
    "print(\"   • Pandas & NumPy: Data manipulation\")\n",
    "print(\"   • Matplotlib & Seaborn: Visualisasi\")\n",
    "print(\"   • Scikit-learn: Preprocessing tools\")\n",
    "print(\"   • PyCaret: Advanced ML preprocessing\")"
   ]
  },
  {
   "cell_type": "markdown",
   "id": "fd65147c",
   "metadata": {},
   "source": [
    "## Load Data dan Hasil Outlier Detection\n"
   ]
  },
  {
   "cell_type": "code",
   "execution_count": 3,
   "id": "e2bc13ce",
   "metadata": {},
   "outputs": [
    {
     "name": "stdout",
     "output_type": "stream",
     "text": [
      "=== LOADING DATA DAN HASIL OUTLIER DETECTION ===\n"
     ]
    },
    {
     "name": "stdout",
     "output_type": "stream",
     "text": [
      "Kolom 'Class' tidak ditemukan di data, lewati mapping species.\n",
      "Dataset Iris berhasil dimuat dari data_iris.csv\n",
      "\n",
      "Info Dataset:\n",
      "   • Ukuran: 150 baris, 1 kolom\n",
      "   • Features: ['sepal length (cm)', 'sepal width (cm)', 'petal length (cm)', 'petal width (cm)']\n",
      "   • Target: species (0=setosa, 1=versicolor, 2=virginica)\n",
      "\n",
      "Sample Data:\n",
      "  id,Class,sepal length,sepal width,petal length,petal width\n",
      "0                      1,Iris-setosa,5.1,3.5,1.4,0.2        \n",
      "1                        2,Iris-setosa,4.9,3,1.4,0.2        \n",
      "2                      3,Iris-setosa,4.7,3.2,1.3,0.2        \n",
      "3                      4,Iris-setosa,4.6,3.1,1.5,0.2        \n",
      "4                        5,Iris-setosa,5,3.6,1.4,0.2        \n"
     ]
    }
   ],
   "source": [
    "# Load dataset Iris dengan hasil outlier detection dari DataUnderstanding\n",
    "print(\"=== LOADING DATA DAN HASIL OUTLIER DETECTION ===\")\n",
    "\n",
    "try:\n",
    "    # Load data dari file CSV atau PyCaret\n",
    "    try:\n",
    "        # Coba load dari file lokal\n",
    "        df = pd.read_csv('data_iris.csv', delimiter=';')\n",
    "        \n",
    "        # Konversi kolom numerik yang menggunakan koma sebagai decimal separator\n",
    "        numeric_columns = ['sepal length', 'sepal width', 'petal length', 'petal width']\n",
    "        \n",
    "        for col in numeric_columns:\n",
    "            if col in df.columns:\n",
    "                df[col] = df[col].astype(str).str.replace(',', '.').astype(float)\n",
    "        \n",
    "        # Buat kolom species numerik dan species name jika 'Class' ada\n",
    "        if 'Class' in df.columns:\n",
    "            df['species'] = df['Class'].map({'Iris-setosa': 0, 'Iris-versicolor': 1, 'Iris-virginica': 2})\n",
    "            df['species_name'] = df['Class'].map({'Iris-setosa': 'setosa', 'Iris-versicolor': 'versicolor', 'Iris-virginica': 'virginica'})\n",
    "            df = df.drop('Class', axis=1)\n",
    "        else:\n",
    "            print(\"Kolom 'Class' tidak ditemukan di data, lewati mapping species.\")\n",
    "        \n",
    "        # Rename kolom untuk konsistensi dengan format sklearn\n",
    "        df = df.rename(columns={\n",
    "            'sepal length': 'sepal length (cm)',\n",
    "            'sepal width': 'sepal width (cm)', \n",
    "            'petal length': 'petal length (cm)',\n",
    "            'petal width': 'petal width (cm)'\n",
    "        })\n",
    "        \n",
    "        # Drop kolom yang tidak diperlukan\n",
    "        if 'id' in df.columns:\n",
    "            df = df.drop('id', axis=1)\n",
    "        \n",
    "        print(\"Dataset Iris berhasil dimuat dari data_iris.csv\")\n",
    "        \n",
    "    except FileNotFoundError:\n",
    "        print(\"File lokal tidak ditemukan. Menggunakan dataset Iris dari PyCaret...\")\n",
    "        try:\n",
    "            df = get_data('iris')\n",
    "            df['species'] = df['species'].map({'setosa': 0, 'versicolor': 1, 'virginica': 2})\n",
    "            df['species_name'] = df['species'].map({0: 'setosa', 1: 'versicolor', 2: 'virginica'})\n",
    "            print(\"Dataset Iris berhasil dimuat dari PyCaret\")\n",
    "        except:\n",
    "            print(\"Error: Tidak dapat memuat dataset dari PyCaret\")\n",
    "    \n",
    "    features = ['sepal length (cm)', 'sepal width (cm)', 'petal length (cm)', 'petal width (cm)']\n",
    "    \n",
    "    print(f\"\\nInfo Dataset:\")\n",
    "    print(f\"   • Ukuran: {df.shape[0]} baris, {df.shape[1]} kolom\")\n",
    "    print(f\"   • Features: {features}\")\n",
    "    print(f\"   • Target: species (0=setosa, 1=versicolor, 2=virginica)\")\n",
    "    \n",
    "    print(f\"\\nSample Data:\")\n",
    "    print(df.head())\n",
    "    \n",
    "except Exception as e:\n",
    "    print(f\"Error loading data: {e}\")\n",
    "    df = None\n"
   ]
  },
  {
   "cell_type": "code",
   "execution_count": 4,
   "id": "5513d489",
   "metadata": {},
   "outputs": [
    {
     "name": "stdout",
     "output_type": "stream",
     "text": [
      "Requirement already satisfied: openpyxl in c:\\xampp\\htdocs\\psds\\.venv\\lib\\site-packages (3.1.5)\n",
      "Requirement already satisfied: et-xmlfile in c:\\xampp\\htdocs\\psds\\.venv\\lib\\site-packages (from openpyxl) (2.0.0)\n",
      "Note: you may need to restart the kernel to use updated packages.\n",
      "Fitur numerik: ['sepal length', 'sepal width', 'petal length', 'petal width']\n",
      "\n",
      "=== DETEKSI OUTLIER DENGAN METODE STATISTIK ===\n",
      "Jumlah outlier (statistik): 4\n",
      "\n",
      "=== DETEKSI OUTLIER DENGAN PYCARET ===\n"
     ]
    },
    {
     "data": {
      "text/html": [],
      "text/plain": [
       "<IPython.core.display.HTML object>"
      ]
     },
     "metadata": {},
     "output_type": "display_data"
    },
    {
     "data": {
      "text/html": [],
      "text/plain": [
       "<IPython.core.display.HTML object>"
      ]
     },
     "metadata": {},
     "output_type": "display_data"
    },
    {
     "data": {
      "text/html": [],
      "text/plain": [
       "<IPython.core.display.HTML object>"
      ]
     },
     "metadata": {},
     "output_type": "display_data"
    },
    {
     "name": "stdout",
     "output_type": "stream",
     "text": [
      "\n",
      "Model ABOD:\n",
      "Anomaly\n",
      "0    142\n",
      "1      8\n",
      "Name: count, dtype: int64\n"
     ]
    },
    {
     "data": {
      "text/html": [],
      "text/plain": [
       "<IPython.core.display.HTML object>"
      ]
     },
     "metadata": {},
     "output_type": "display_data"
    },
    {
     "data": {
      "text/html": [],
      "text/plain": [
       "<IPython.core.display.HTML object>"
      ]
     },
     "metadata": {},
     "output_type": "display_data"
    },
    {
     "data": {
      "text/html": [],
      "text/plain": [
       "<IPython.core.display.HTML object>"
      ]
     },
     "metadata": {},
     "output_type": "display_data"
    },
    {
     "name": "stdout",
     "output_type": "stream",
     "text": [
      "\n",
      "Model KNN:\n",
      "Anomaly\n",
      "0    142\n",
      "1      8\n",
      "Name: count, dtype: int64\n"
     ]
    },
    {
     "data": {
      "text/html": [],
      "text/plain": [
       "<IPython.core.display.HTML object>"
      ]
     },
     "metadata": {},
     "output_type": "display_data"
    },
    {
     "data": {
      "text/html": [],
      "text/plain": [
       "<IPython.core.display.HTML object>"
      ]
     },
     "metadata": {},
     "output_type": "display_data"
    },
    {
     "data": {
      "text/html": [],
      "text/plain": [
       "<IPython.core.display.HTML object>"
      ]
     },
     "metadata": {},
     "output_type": "display_data"
    }
   ],
   "source": [
    "# === IMPORT LIBRARY ===\n",
    "%pip install openpyxl\n",
    "import pandas as pd\n",
    "import numpy as np\n",
    "from scipy import stats\n",
    "\n",
    "# PyCaret Anomaly\n",
    "from pycaret.anomaly import setup, create_model, assign_model\n",
    "\n",
    "# === LOAD DATASET ===\n",
    "df = pd.read_csv(\"data_iris.csv\")\n",
    "\n",
    "# Pastikan hanya ambil fitur numerik, buang 'id' kalau tidak perlu\n",
    "numeric_features = [col for col in df.select_dtypes(include=['int64', 'float64']).columns if col != 'id']\n",
    "print(\"Fitur numerik:\", numeric_features)\n",
    "\n",
    "\n",
    "# === 1. DETEKSI OUTLIER MENGGUNAKAN METODE STATISTIK ===\n",
    "print(\"\\n=== DETEKSI OUTLIER DENGAN METODE STATISTIK ===\")\n",
    "\n",
    "# Metode Z-Score\n",
    "z_scores = np.abs(stats.zscore(df[numeric_features]))\n",
    "outliers_z = (z_scores > 3).any(axis=1)\n",
    "\n",
    "# Metode IQR\n",
    "Q1 = df[numeric_features].quantile(0.25)\n",
    "Q3 = df[numeric_features].quantile(0.75)\n",
    "IQR = Q3 - Q1\n",
    "outliers_iqr = ((df[numeric_features] < (Q1 - 1.5 * IQR)) | (df[numeric_features] > (Q3 + 1.5 * IQR))).any(axis=1)\n",
    "\n",
    "df['Outlier_Statistik'] = outliers_z | outliers_iqr\n",
    "print(\"Jumlah outlier (statistik):\", df['Outlier_Statistik'].sum())\n",
    "\n",
    "\n",
    "# === 2. DETEKSI OUTLIER MENGGUNAKAN PYCARET ===\n",
    "print(\"\\n=== DETEKSI OUTLIER DENGAN PYCARET ===\")\n",
    "\n",
    "try:\n",
    "    # Setup PyCaret versi baru (tanpa silent/train_size)\n",
    "    s = setup(data=df[numeric_features], session_id=123, verbose=False)\n",
    "\n",
    "    models = [\"abod\", \"knn\", \"cof\"]\n",
    "    for m in models:\n",
    "        model = create_model(m)\n",
    "        results = assign_model(model)\n",
    "        print(f\"\\nModel {m.upper()}:\")\n",
    "        print(results['Anomaly'].value_counts())\n",
    "\n",
    "        # Simpan hasil ke dataframe utama\n",
    "        df[f\"Outlier_{m.upper()}\"] = results['Anomaly']\n",
    "\n",
    "except Exception as e:\n",
    "    print(\"Error PyCaret:\", e)\n",
    "    print(\"Lanjut menggunakan metode statistik saja...\")\n",
    "\n",
    "\n",
    "# === SIMPAN HASIL KE FILE BARU ===\n",
    "df.to_excel(\"hasil_outlier.xlsx\", index=False)\n",
    "print(\"\\n✓ Deteksi outlier selesai, hasil disimpan ke hasil_outlier.xlsx\")\n"
   ]
  }
 ],
 "metadata": {
  "kernelspec": {
   "display_name": "Python 3",
   "language": "python",
   "name": "python3"
  },
  "language_info": {
   "codemirror_mode": {
    "name": "ipython",
    "version": 3
   },
   "file_extension": ".py",
   "mimetype": "text/x-python",
   "name": "python",
   "nbconvert_exporter": "python",
   "pygments_lexer": "ipython3",
   "version": "3.11.5"
  }
 },
 "nbformat": 4,
 "nbformat_minor": 5
}