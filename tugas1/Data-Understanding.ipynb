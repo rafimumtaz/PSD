{
 "cells": [
  {
   "cell_type": "markdown",
   "id": "686c8d0f",
   "metadata": {},
   "source": [
    "# Data Understanding\n",
    "\n",
    "Proses *Data Understanding* merupakan tahap awal dalam siklus analisis data yang berfokus pada pengumpulan, penelaahan, dan evaluasi dataset. Tujuan utamanya adalah memastikan bahwa data yang digunakan benar-benar relevan dengan permasalahan bisnis serta layak diproses lebih lanjut dalam tahap analisis.\n",
    "\n",
    "Tahapan utama dalam memahami data meliputi:\n",
    "\n",
    "### 1. Pengumpulan Data  \n",
    "Mengidentifikasi serta memperoleh data dari berbagai sumber yang berhubungan dengan permasalahan yang sedang dikaji.\n",
    "\n",
    "### 2. Deskripsi Data  \n",
    "Menganalisis struktur data, seperti jumlah baris dan kolom, serta memahami tipe variabel atau atribut yang tersedia.\n",
    "\n",
    "### 3. Eksplorasi Data  \n",
    "Melakukan penelusuran awal untuk menemukan pola, hubungan, maupun penyimpangan dalam data. Tahapan ini biasanya menggunakan metode statistik deskriptif dan visualisasi data.\n",
    "\n",
    "### 4. Kualitas Data  \n",
    "Menilai kelengkapan, akurasi, dan konsistensi data untuk memastikan dataset memiliki mutu yang memadai sebelum dianalisis lebih jauh.\n"
   ]
  },
  {
   "cell_type": "code",
   "execution_count": 9,
   "id": "c4043414",
   "metadata": {},
   "outputs": [
    {
     "name": "stdout",
     "output_type": "stream",
     "text": [
      "Requirement already satisfied: seaborn in c:\\users\\asus mtr\\appdata\\local\\programs\\python\\python311\\lib\\site-packages (0.13.2)\n",
      "Requirement already satisfied: numpy!=1.24.0,>=1.20 in c:\\users\\asus mtr\\appdata\\local\\programs\\python\\python311\\lib\\site-packages (from seaborn) (1.26.4)\n",
      "Requirement already satisfied: pandas>=1.2 in c:\\users\\asus mtr\\appdata\\local\\programs\\python\\python311\\lib\\site-packages (from seaborn) (2.1.4)\n",
      "Requirement already satisfied: matplotlib!=3.6.1,>=3.4 in c:\\users\\asus mtr\\appdata\\local\\programs\\python\\python311\\lib\\site-packages (from seaborn) (3.7.5)\n",
      "Requirement already satisfied: contourpy>=1.0.1 in c:\\users\\asus mtr\\appdata\\local\\programs\\python\\python311\\lib\\site-packages (from matplotlib!=3.6.1,>=3.4->seaborn) (1.3.3)\n",
      "Requirement already satisfied: cycler>=0.10 in c:\\users\\asus mtr\\appdata\\local\\programs\\python\\python311\\lib\\site-packages (from matplotlib!=3.6.1,>=3.4->seaborn) (0.12.1)\n",
      "Requirement already satisfied: fonttools>=4.22.0 in c:\\users\\asus mtr\\appdata\\local\\programs\\python\\python311\\lib\\site-packages (from matplotlib!=3.6.1,>=3.4->seaborn) (4.59.2)\n",
      "Requirement already satisfied: kiwisolver>=1.0.1 in c:\\users\\asus mtr\\appdata\\local\\programs\\python\\python311\\lib\\site-packages (from matplotlib!=3.6.1,>=3.4->seaborn) (1.4.9)\n",
      "Requirement already satisfied: packaging>=20.0 in c:\\users\\asus mtr\\appdata\\local\\programs\\python\\python311\\lib\\site-packages (from matplotlib!=3.6.1,>=3.4->seaborn) (25.0)\n",
      "Requirement already satisfied: pillow>=6.2.0 in c:\\users\\asus mtr\\appdata\\local\\programs\\python\\python311\\lib\\site-packages (from matplotlib!=3.6.1,>=3.4->seaborn) (11.3.0)\n",
      "Requirement already satisfied: pyparsing>=2.3.1 in c:\\users\\asus mtr\\appdata\\local\\programs\\python\\python311\\lib\\site-packages (from matplotlib!=3.6.1,>=3.4->seaborn) (3.2.4)\n",
      "Requirement already satisfied: python-dateutil>=2.7 in c:\\users\\asus mtr\\appdata\\local\\programs\\python\\python311\\lib\\site-packages (from matplotlib!=3.6.1,>=3.4->seaborn) (2.9.0.post0)\n",
      "Requirement already satisfied: pytz>=2020.1 in c:\\users\\asus mtr\\appdata\\local\\programs\\python\\python311\\lib\\site-packages (from pandas>=1.2->seaborn) (2025.2)\n",
      "Requirement already satisfied: tzdata>=2022.1 in c:\\users\\asus mtr\\appdata\\local\\programs\\python\\python311\\lib\\site-packages (from pandas>=1.2->seaborn) (2025.2)\n",
      "Requirement already satisfied: six>=1.5 in c:\\users\\asus mtr\\appdata\\local\\programs\\python\\python311\\lib\\site-packages (from python-dateutil>=2.7->matplotlib!=3.6.1,>=3.4->seaborn) (1.17.0)\n",
      "Note: you may need to restart the kernel to use updated packages.\n",
      "PyCaret berhasil diimport\n",
      "Library berhasil diimport\n"
     ]
    },
    {
     "name": "stderr",
     "output_type": "stream",
     "text": [
      "\n",
      "[notice] A new release of pip is available: 23.2.1 -> 25.2\n",
      "[notice] To update, run: python.exe -m pip install --upgrade pip\n"
     ]
    }
   ],
   "source": [
    "%pip install seaborn\n",
    "# Import library yang diperlukan\n",
    "import pandas as pd\n",
    "import numpy as np\n",
    "import matplotlib.pyplot as plt\n",
    "import seaborn as sns\n",
    "import warnings\n",
    "warnings.filterwarnings('ignore')\n",
    "\n",
    "# Import PyCaret untuk EDA dan classification\n",
    "try:\n",
    "    from pycaret.datasets import get_data\n",
    "    from pycaret.classification import *\n",
    "    from pycaret.anomaly import *\n",
    "    print(\"PyCaret berhasil diimport\")\n",
    "except ImportError:\n",
    "    print(\"PyCaret tidak tersedia. Install dengan: pip install pycaret\")\n",
    "\n",
    "# visualisasi\n",
    "plt.style.use('default')\n",
    "sns.set_palette(\"husl\")\n",
    "\n",
    "print(\"Library berhasil diimport\")"
   ]
  },
  {
   "cell_type": "markdown",
   "id": "cb7909f9",
   "metadata": {},
   "source": [
    "## Load Dataset\n",
    "\n",
    "Dataset Iris akan dimuat dari file CSV. Pastikan file CSV berada di folder yang sama atau sesuaikan path-nya."
   ]
  },
  {
   "cell_type": "code",
   "execution_count": 10,
   "id": "384d87c8",
   "metadata": {},
   "outputs": [
    {
     "name": "stdout",
     "output_type": "stream",
     "text": [
      "✅ Dataset Iris berhasil dimuat dari data_iris.csv\n",
      "\n",
      "Ukuran dataset: 150 baris, 1 kolom\n",
      "Kolom dataset: ['id,Class,sepal length,sepal width,petal length,petal width']\n"
     ]
    },
    {
     "data": {
      "text/html": [
       "<div>\n",
       "<style scoped>\n",
       "    .dataframe tbody tr th:only-of-type {\n",
       "        vertical-align: middle;\n",
       "    }\n",
       "\n",
       "    .dataframe tbody tr th {\n",
       "        vertical-align: top;\n",
       "    }\n",
       "\n",
       "    .dataframe thead th {\n",
       "        text-align: right;\n",
       "    }\n",
       "</style>\n",
       "<table border=\"1\" class=\"dataframe\">\n",
       "  <thead>\n",
       "    <tr style=\"text-align: right;\">\n",
       "      <th></th>\n",
       "      <th>id,Class,sepal length,sepal width,petal length,petal width</th>\n",
       "    </tr>\n",
       "  </thead>\n",
       "  <tbody>\n",
       "    <tr>\n",
       "      <th>0</th>\n",
       "      <td>1,Iris-setosa,5.1,3.5,1.4,0.2</td>\n",
       "    </tr>\n",
       "    <tr>\n",
       "      <th>1</th>\n",
       "      <td>2,Iris-setosa,4.9,3,1.4,0.2</td>\n",
       "    </tr>\n",
       "    <tr>\n",
       "      <th>2</th>\n",
       "      <td>3,Iris-setosa,4.7,3.2,1.3,0.2</td>\n",
       "    </tr>\n",
       "    <tr>\n",
       "      <th>3</th>\n",
       "      <td>4,Iris-setosa,4.6,3.1,1.5,0.2</td>\n",
       "    </tr>\n",
       "    <tr>\n",
       "      <th>4</th>\n",
       "      <td>5,Iris-setosa,5,3.6,1.4,0.2</td>\n",
       "    </tr>\n",
       "  </tbody>\n",
       "</table>\n",
       "</div>"
      ],
      "text/plain": [
       "  id,Class,sepal length,sepal width,petal length,petal width\n",
       "0                      1,Iris-setosa,5.1,3.5,1.4,0.2        \n",
       "1                        2,Iris-setosa,4.9,3,1.4,0.2        \n",
       "2                      3,Iris-setosa,4.7,3.2,1.3,0.2        \n",
       "3                      4,Iris-setosa,4.6,3.1,1.5,0.2        \n",
       "4                        5,Iris-setosa,5,3.6,1.4,0.2        "
      ]
     },
     "execution_count": 10,
     "metadata": {},
     "output_type": "execute_result"
    }
   ],
   "source": [
    "# Load dataset Iris dari file CSV atau PyCaret\n",
    "try:\n",
    "    df = pd.read_csv('data_iris.csv', delimiter=';')\n",
    "\n",
    "    numeric_columns = ['sepal length', 'sepal width', 'petal length', 'petal width']\n",
    "    for col in numeric_columns:\n",
    "        if col in df.columns:\n",
    "            df[col] = df[col].astype(str).str.replace(',', '.').astype(float)\n",
    "\n",
    "    if 'Class' in df.columns:\n",
    "        df['species_name'] = df['Class'].map({\n",
    "            'Iris-setosa': 'setosa',\n",
    "            'Iris-versicolor': 'versicolor',\n",
    "            'Iris-virginica': 'virginica'\n",
    "        })\n",
    "        df['species'] = df['species_name'].map({\n",
    "            'setosa': 0, 'versicolor': 1, 'virginica': 2\n",
    "        })\n",
    "\n",
    "    df = df.rename(columns={\n",
    "        'sepal length': 'sepal length (cm)',\n",
    "        'sepal width': 'sepal width (cm)',\n",
    "        'petal length': 'petal length (cm)',\n",
    "        'petal width': 'petal width (cm)'\n",
    "    })\n",
    "\n",
    "    if 'id' in df.columns:\n",
    "        df = df.drop('id', axis=1)\n",
    "\n",
    "    print(\"✅ Dataset Iris berhasil dimuat dari data_iris.csv\")\n",
    "\n",
    "except FileNotFoundError:\n",
    "    print(\"⚠️ File lokal tidak ditemukan. Menggunakan dataset Iris dari PyCaret...\")\n",
    "    from pycaret.datasets import get_data\n",
    "    try:\n",
    "        df = get_data('iris')\n",
    "\n",
    "        df['species_num'] = df['species'].map({\n",
    "            'setosa': 0, 'versicolor': 1, 'virginica': 2\n",
    "        })\n",
    "        df['species_name'] = df['species']\n",
    "\n",
    "        print(\"✅ Dataset Iris berhasil dimuat dari PyCaret\")\n",
    "    except Exception as e:\n",
    "        print(\"❌ Error: Tidak dapat memuat dataset dari PyCaret\")\n",
    "        print(e)\n",
    "\n",
    "print(f\"\\nUkuran dataset: {df.shape[0]} baris, {df.shape[1]} kolom\")\n",
    "print(f\"Kolom dataset: {list(df.columns)}\")\n",
    "\n",
    "df.head()"
   ]
  },
  {
   "cell_type": "markdown",
   "id": "60a53903",
   "metadata": {},
   "source": [
    "## Informasi Dataset\n",
    "\n",
    "Mengecek tipe data tiap kolom, jumlah baris, dan ada tidaknya missing values."
   ]
  },
  {
   "cell_type": "code",
   "execution_count": 11,
   "id": "9ec8a251",
   "metadata": {},
   "outputs": [
    {
     "name": "stdout",
     "output_type": "stream",
     "text": [
      "Dataset Iris berhasil dimuat\n",
      "Ukuran dataset: 150 baris, 7 kolom\n"
     ]
    },
    {
     "data": {
      "text/html": [
       "<style type=\"text/css\">\n",
       "</style>\n",
       "<table id=\"T_066f7\">\n",
       "  <thead>\n",
       "    <tr>\n",
       "      <th id=\"T_066f7_level0_col0\" class=\"col_heading level0 col0\" >id</th>\n",
       "      <th id=\"T_066f7_level0_col1\" class=\"col_heading level0 col1\" >sepal length</th>\n",
       "      <th id=\"T_066f7_level0_col2\" class=\"col_heading level0 col2\" >sepal width</th>\n",
       "      <th id=\"T_066f7_level0_col3\" class=\"col_heading level0 col3\" >petal length</th>\n",
       "      <th id=\"T_066f7_level0_col4\" class=\"col_heading level0 col4\" >petal width</th>\n",
       "      <th id=\"T_066f7_level0_col5\" class=\"col_heading level0 col5\" >species</th>\n",
       "      <th id=\"T_066f7_level0_col6\" class=\"col_heading level0 col6\" >species_name</th>\n",
       "    </tr>\n",
       "  </thead>\n",
       "  <tbody>\n",
       "    <tr>\n",
       "      <td id=\"T_066f7_row0_col0\" class=\"data row0 col0\" >1</td>\n",
       "      <td id=\"T_066f7_row0_col1\" class=\"data row0 col1\" >5.1</td>\n",
       "      <td id=\"T_066f7_row0_col2\" class=\"data row0 col2\" >3.5</td>\n",
       "      <td id=\"T_066f7_row0_col3\" class=\"data row0 col3\" >1.4</td>\n",
       "      <td id=\"T_066f7_row0_col4\" class=\"data row0 col4\" >0.2</td>\n",
       "      <td id=\"T_066f7_row0_col5\" class=\"data row0 col5\" >1</td>\n",
       "      <td id=\"T_066f7_row0_col6\" class=\"data row0 col6\" >setosa</td>\n",
       "    </tr>\n",
       "    <tr>\n",
       "      <td id=\"T_066f7_row1_col0\" class=\"data row1 col0\" >2</td>\n",
       "      <td id=\"T_066f7_row1_col1\" class=\"data row1 col1\" >4.9</td>\n",
       "      <td id=\"T_066f7_row1_col2\" class=\"data row1 col2\" >3.0</td>\n",
       "      <td id=\"T_066f7_row1_col3\" class=\"data row1 col3\" >1.4</td>\n",
       "      <td id=\"T_066f7_row1_col4\" class=\"data row1 col4\" >0.2</td>\n",
       "      <td id=\"T_066f7_row1_col5\" class=\"data row1 col5\" >1</td>\n",
       "      <td id=\"T_066f7_row1_col6\" class=\"data row1 col6\" >setosa</td>\n",
       "    </tr>\n",
       "    <tr>\n",
       "      <td id=\"T_066f7_row2_col0\" class=\"data row2 col0\" >3</td>\n",
       "      <td id=\"T_066f7_row2_col1\" class=\"data row2 col1\" >4.7</td>\n",
       "      <td id=\"T_066f7_row2_col2\" class=\"data row2 col2\" >3.2</td>\n",
       "      <td id=\"T_066f7_row2_col3\" class=\"data row2 col3\" >1.3</td>\n",
       "      <td id=\"T_066f7_row2_col4\" class=\"data row2 col4\" >0.2</td>\n",
       "      <td id=\"T_066f7_row2_col5\" class=\"data row2 col5\" >1</td>\n",
       "      <td id=\"T_066f7_row2_col6\" class=\"data row2 col6\" >setosa</td>\n",
       "    </tr>\n",
       "    <tr>\n",
       "      <td id=\"T_066f7_row3_col0\" class=\"data row3 col0\" >4</td>\n",
       "      <td id=\"T_066f7_row3_col1\" class=\"data row3 col1\" >4.6</td>\n",
       "      <td id=\"T_066f7_row3_col2\" class=\"data row3 col2\" >3.1</td>\n",
       "      <td id=\"T_066f7_row3_col3\" class=\"data row3 col3\" >1.5</td>\n",
       "      <td id=\"T_066f7_row3_col4\" class=\"data row3 col4\" >0.2</td>\n",
       "      <td id=\"T_066f7_row3_col5\" class=\"data row3 col5\" >1</td>\n",
       "      <td id=\"T_066f7_row3_col6\" class=\"data row3 col6\" >setosa</td>\n",
       "    </tr>\n",
       "    <tr>\n",
       "      <td id=\"T_066f7_row4_col0\" class=\"data row4 col0\" >5</td>\n",
       "      <td id=\"T_066f7_row4_col1\" class=\"data row4 col1\" >5.0</td>\n",
       "      <td id=\"T_066f7_row4_col2\" class=\"data row4 col2\" >3.6</td>\n",
       "      <td id=\"T_066f7_row4_col3\" class=\"data row4 col3\" >1.4</td>\n",
       "      <td id=\"T_066f7_row4_col4\" class=\"data row4 col4\" >0.2</td>\n",
       "      <td id=\"T_066f7_row4_col5\" class=\"data row4 col5\" >1</td>\n",
       "      <td id=\"T_066f7_row4_col6\" class=\"data row4 col6\" >setosa</td>\n",
       "    </tr>\n",
       "  </tbody>\n",
       "</table>\n"
      ],
      "text/plain": [
       "<pandas.io.formats.style.Styler at 0x19e01a9f010>"
      ]
     },
     "metadata": {},
     "output_type": "display_data"
    }
   ],
   "source": [
    "import pandas as pd\n",
    "from sklearn.datasets import load_iris\n",
    "from IPython.display import display\n",
    "\n",
    "IRIS = load_iris()\n",
    "\n",
    "columns_clean = [col.replace(\" (cm)\", \"\") for col in IRIS.feature_names]\n",
    "df = pd.DataFrame(data=IRIS.data, columns=columns_clean)\n",
    "\n",
    "df['species'] = IRIS.target + 1\n",
    "\n",
    "df['species_name'] = df['species'].map({1: 'setosa', 2: 'versicolor', 3: 'virginica'})\n",
    "\n",
    "df.insert(0, 'id', range(1, len(df)+1))\n",
    "\n",
    "print(\"Dataset Iris berhasil dimuat\")\n",
    "print(f\"Ukuran dataset: {df.shape[0]} baris, {df.shape[1]} kolom\")\n",
    "\n",
    "pd.options.display.float_format = \"{:.1f}\".format\n",
    "\n",
    "display(\n",
    "    df.head().style.format(\"{:.1f}\", subset=df.columns[1:5]).hide(axis=\"index\")\n",
    ")"
   ]
  },
  {
   "cell_type": "markdown",
   "id": "7fa696f6",
   "metadata": {},
   "source": [
    "## Mengecek Tipe Data dan Jenis Variabel\n"
   ]
  },
  {
   "cell_type": "code",
   "execution_count": 12,
   "id": "c01989dc",
   "metadata": {},
   "outputs": [
    {
     "name": "stdout",
     "output_type": "stream",
     "text": [
      "\n",
      "--- Tipe Data Kolom ---\n",
      "id                int64\n",
      "sepal length    float64\n",
      "sepal width     float64\n",
      "petal length    float64\n",
      "petal width     float64\n",
      "species           int32\n",
      "species_name     object\n",
      "dtype: object\n",
      "\n",
      "--- Mengecek Missing Value ---\n",
      "id              0\n",
      "sepal length    0\n",
      "sepal width     0\n",
      "petal length    0\n",
      "petal width     0\n",
      "species         0\n",
      "species_name    0\n",
      "dtype: int64\n"
     ]
    }
   ],
   "source": [
    "print(\"\\n--- Tipe Data Kolom ---\")\n",
    "print(df.dtypes)\n",
    "\n",
    "print(\"\\n--- Mengecek Missing Value ---\")\n",
    "print(df.isnull().sum())"
   ]
  },
  {
   "cell_type": "markdown",
   "id": "5e09a321",
   "metadata": {},
   "source": [
    "## Statistik Deskriptif Data\n",
    "\n",
    "Menampilkan statistik dasar dari kolom numerik, seperti min, max, mean, dan standar deviasi.\n",
    "\n"
   ]
  },
  {
   "cell_type": "code",
   "execution_count": 13,
   "id": "c0f82d23",
   "metadata": {},
   "outputs": [
    {
     "data": {
      "text/html": [
       "<div>\n",
       "<style scoped>\n",
       "    .dataframe tbody tr th:only-of-type {\n",
       "        vertical-align: middle;\n",
       "    }\n",
       "\n",
       "    .dataframe tbody tr th {\n",
       "        vertical-align: top;\n",
       "    }\n",
       "\n",
       "    .dataframe thead th {\n",
       "        text-align: right;\n",
       "    }\n",
       "</style>\n",
       "<table border=\"1\" class=\"dataframe\">\n",
       "  <thead>\n",
       "    <tr style=\"text-align: right;\">\n",
       "      <th></th>\n",
       "      <th>id</th>\n",
       "      <th>sepal length</th>\n",
       "      <th>sepal width</th>\n",
       "      <th>petal length</th>\n",
       "      <th>petal width</th>\n",
       "      <th>species</th>\n",
       "    </tr>\n",
       "  </thead>\n",
       "  <tbody>\n",
       "    <tr>\n",
       "      <th>count</th>\n",
       "      <td>150.0</td>\n",
       "      <td>150.0</td>\n",
       "      <td>150.0</td>\n",
       "      <td>150.0</td>\n",
       "      <td>150.0</td>\n",
       "      <td>150.0</td>\n",
       "    </tr>\n",
       "    <tr>\n",
       "      <th>mean</th>\n",
       "      <td>75.5</td>\n",
       "      <td>5.8</td>\n",
       "      <td>3.1</td>\n",
       "      <td>3.8</td>\n",
       "      <td>1.2</td>\n",
       "      <td>2.0</td>\n",
       "    </tr>\n",
       "    <tr>\n",
       "      <th>std</th>\n",
       "      <td>43.4</td>\n",
       "      <td>0.8</td>\n",
       "      <td>0.4</td>\n",
       "      <td>1.8</td>\n",
       "      <td>0.8</td>\n",
       "      <td>0.8</td>\n",
       "    </tr>\n",
       "    <tr>\n",
       "      <th>min</th>\n",
       "      <td>1.0</td>\n",
       "      <td>4.3</td>\n",
       "      <td>2.0</td>\n",
       "      <td>1.0</td>\n",
       "      <td>0.1</td>\n",
       "      <td>1.0</td>\n",
       "    </tr>\n",
       "    <tr>\n",
       "      <th>25%</th>\n",
       "      <td>38.2</td>\n",
       "      <td>5.1</td>\n",
       "      <td>2.8</td>\n",
       "      <td>1.6</td>\n",
       "      <td>0.3</td>\n",
       "      <td>1.0</td>\n",
       "    </tr>\n",
       "    <tr>\n",
       "      <th>50%</th>\n",
       "      <td>75.5</td>\n",
       "      <td>5.8</td>\n",
       "      <td>3.0</td>\n",
       "      <td>4.3</td>\n",
       "      <td>1.3</td>\n",
       "      <td>2.0</td>\n",
       "    </tr>\n",
       "    <tr>\n",
       "      <th>75%</th>\n",
       "      <td>112.8</td>\n",
       "      <td>6.4</td>\n",
       "      <td>3.3</td>\n",
       "      <td>5.1</td>\n",
       "      <td>1.8</td>\n",
       "      <td>3.0</td>\n",
       "    </tr>\n",
       "    <tr>\n",
       "      <th>max</th>\n",
       "      <td>150.0</td>\n",
       "      <td>7.9</td>\n",
       "      <td>4.4</td>\n",
       "      <td>6.9</td>\n",
       "      <td>2.5</td>\n",
       "      <td>3.0</td>\n",
       "    </tr>\n",
       "  </tbody>\n",
       "</table>\n",
       "</div>"
      ],
      "text/plain": [
       "         id  sepal length  sepal width  petal length  petal width  species\n",
       "count 150.0         150.0        150.0         150.0        150.0    150.0\n",
       "mean   75.5           5.8          3.1           3.8          1.2      2.0\n",
       "std    43.4           0.8          0.4           1.8          0.8      0.8\n",
       "min     1.0           4.3          2.0           1.0          0.1      1.0\n",
       "25%    38.2           5.1          2.8           1.6          0.3      1.0\n",
       "50%    75.5           5.8          3.0           4.3          1.3      2.0\n",
       "75%   112.8           6.4          3.3           5.1          1.8      3.0\n",
       "max   150.0           7.9          4.4           6.9          2.5      3.0"
      ]
     },
     "execution_count": 13,
     "metadata": {},
     "output_type": "execute_result"
    }
   ],
   "source": [
    "df.describe()"
   ]
  },
  {
   "cell_type": "markdown",
   "id": "61b38d94",
   "metadata": {},
   "source": [
    "## Statistik Kategori Spesies\n",
    "\n",
    "Menampilkan jumlah masing-masing spesies iris untuk mengetahui distribusi kelas."
   ]
  },
  {
   "cell_type": "code",
   "execution_count": 14,
   "id": "7f27666a",
   "metadata": {},
   "outputs": [
    {
     "data": {
      "text/plain": [
       "species\n",
       "1    50\n",
       "2    50\n",
       "3    50\n",
       "Name: count, dtype: int64"
      ]
     },
     "execution_count": 14,
     "metadata": {},
     "output_type": "execute_result"
    }
   ],
   "source": [
    "df['species'].value_counts()"
   ]
  }
 ],
 "metadata": {
  "kernelspec": {
   "display_name": "Python 3",
   "language": "python",
   "name": "python3"
  },
  "language_info": {
   "codemirror_mode": {
    "name": "ipython",
    "version": 3
   },
   "file_extension": ".py",
   "mimetype": "text/x-python",
   "name": "python",
   "nbconvert_exporter": "python",
   "pygments_lexer": "ipython3",
   "version": "3.11.5"
  }
 },
 "nbformat": 4,
 "nbformat_minor": 5
}
